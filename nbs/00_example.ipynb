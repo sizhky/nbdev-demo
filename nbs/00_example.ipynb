{
 "cells": [
  {
   "cell_type": "code",
   "execution_count": null,
   "metadata": {},
   "outputs": [],
   "source": [
    "# default_exp core\n",
    "# default_cls_lvl 3\n",
    "import sys; sys.path.append('..')"
   ]
  },
  {
   "cell_type": "markdown",
   "metadata": {},
   "source": [
    "# Circle\n",
    "\n",
    "> Simple class for circle that can tell the perimeter and area."
   ]
  },
  {
   "cell_type": "code",
   "execution_count": null,
   "metadata": {},
   "outputs": [],
   "source": [
    "# export\n",
    "import math\n",
    "class Circle:\n",
    "    def __init__(self, r:float): self.r = r\n",
    "    @property\n",
    "    def perimeter(self):\n",
    "        \"\"\"return the perimeter of the circle\"\"\"\n",
    "        return 2 * math.pi * self.r\n",
    "    @property\n",
    "    def area(self):\n",
    "        \"\"\"return the area of the circle:\"\"\"\n",
    "        return math.pi * (self.r)**2"
   ]
  },
  {
   "cell_type": "code",
   "execution_count": null,
   "metadata": {},
   "outputs": [],
   "source": [
    "from nbdev.export2html import show_doc\n",
    "show_doc(Circle.perimeter)\n",
    "show_doc(Circle.area)"
   ]
  },
  {
   "cell_type": "markdown",
   "metadata": {},
   "source": [
    "Area of a circle is $$\\pi \\times r^2$$ and the perimeter is $$2 \\times \\pi \\times r$$ where `r` is the radius of the circle."
   ]
  },
  {
   "cell_type": "code",
   "execution_count": null,
   "metadata": {},
   "outputs": [
    {
     "name": "stdout",
     "output_type": "stream",
     "text": [
      "Area:\t\t314.1592653589793\n",
      "Perimeter:\t62.83185307179586\n"
     ]
    }
   ],
   "source": [
    "c = Circle(10)\n",
    "print(f'Area:\\t\\t{c.area}\\nPerimeter:\\t{c.perimeter}')\n",
    "assert 314.15 < c.area < 314.16"
   ]
  },
  {
   "cell_type": "code",
   "execution_count": null,
   "metadata": {},
   "outputs": [],
   "source": []
  }
 ],
 "metadata": {
  "kernelspec": {
   "display_name": "Python 3",
   "language": "python",
   "name": "python3"
  }
 },
 "nbformat": 4,
 "nbformat_minor": 2
}
