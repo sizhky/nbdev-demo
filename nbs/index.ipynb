{
 "cells": [
  {
   "cell_type": "code",
   "execution_count": 1,
   "metadata": {
    "ExecuteTime": {
     "end_time": "2020-11-26T19:33:29.224125Z",
     "start_time": "2020-11-26T19:33:29.220629Z"
    }
   },
   "outputs": [],
   "source": [
    "#hide\n",
    "import sys; sys.path.append('..')\n",
    "from demo.core import *"
   ]
  },
  {
   "cell_type": "markdown",
   "metadata": {},
   "source": [
    "# Demo Project\n",
    "\n",
    "> This is solely to explain the steps involved in building a library out of your notebooks and `nbdev`."
   ]
  },
  {
   "cell_type": "markdown",
   "metadata": {},
   "source": [
    "\n",
    "1. Make a template out of [this-repo](https://github.optum.com/yreddy31/nbdev-template)\n",
    "2. Clone it\n",
    "```bash\n",
    "$ git clone https://github.optum.com/yreddy31/demo-nbdev\n",
    "```\n",
    "3. Modify settings.ini\n",
    "4. Add your notebooks in nbs folder\n",
    "5. Build the library\n",
    "```bash\n",
    "$ nbdev_build_lib\n",
    "$ cd nbs && ln -s ../demo . && cd ..\n",
    "```\n",
    "6. Test the library\n",
    "```bash\n",
    "$ nbdev_test_nbs\n",
    "```\n",
    "6. Build the docs\n",
    "```bash\n",
    "$ nbdev_build_docs\n",
    "```\n",
    "7. Verify the docs are built properly\n",
    "```bash\n",
    "$ make docs_serve\n",
    "```\n",
    "> Important: Ensure jekyll is properly built on your machine. This is needed for serving docs."
   ]
  },
  {
   "cell_type": "markdown",
   "metadata": {},
   "source": [
    "## How to use"
   ]
  },
  {
   "cell_type": "markdown",
   "metadata": {},
   "source": [
    "`index.ipynb` should be the notebook that introduces users to your library. \n",
    "You just need to add the important code snippets and the docs will be automatically built."
   ]
  },
  {
   "cell_type": "code",
   "execution_count": 2,
   "metadata": {
    "ExecuteTime": {
     "end_time": "2020-11-26T19:33:29.270323Z",
     "start_time": "2020-11-26T19:33:29.267587Z"
    }
   },
   "outputs": [
    {
     "name": "stdout",
     "output_type": "stream",
     "text": [
      "Area:\t\t314.1592653589793\n",
      "Perimeter:\t62.83185307179586\n"
     ]
    }
   ],
   "source": [
    "c = Circle(10)\n",
    "print(f'Area:\\t\\t{c.area}\\nPerimeter:\\t{c.perimeter}')"
   ]
  },
  {
   "cell_type": "markdown",
   "metadata": {},
   "source": [
    "DONE!"
   ]
  }
 ],
 "metadata": {
  "hide_input": false,
  "kernelspec": {
   "display_name": "Python 3",
   "language": "python",
   "name": "python3"
  },
  "language_info": {
   "codemirror_mode": {
    "name": "ipython",
    "version": 3
   },
   "file_extension": ".py",
   "mimetype": "text/x-python",
   "name": "python",
   "nbconvert_exporter": "python",
   "pygments_lexer": "ipython3",
   "version": "3.7.4"
  }
 },
 "nbformat": 4,
 "nbformat_minor": 2
}
